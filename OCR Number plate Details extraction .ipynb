{
 "cells": [
  {
   "cell_type": "code",
   "execution_count": null,
   "id": "4e810133",
   "metadata": {},
   "outputs": [],
   "source": [
    "import pytesseract\n",
    "import pandas as pd\n",
    "import numpy as np\n",
    "import re"
   ]
  },
  {
   "cell_type": "code",
   "execution_count": null,
   "id": "e6915227",
   "metadata": {},
   "outputs": [],
   "source": [
    "path=r\"C:\\Users\\dell\\AppData\\Local\\Programs\\Tesseract-OCR\\tesseract.exe\"\n",
    "pytesseract.pytesseract.tesseract_cmd=path"
   ]
  },
  {
   "cell_type": "code",
   "execution_count": null,
   "id": "96704519",
   "metadata": {},
   "outputs": [],
   "source": [
    "def get_Number_pate_details(file_path):\n",
    "    list_of_images=os.listdir(r\"\"+file_path)\n",
    "    text_list=[]\n",
    "    for i in list_of_images:\n",
    "        #if (i.endswith(\".jpeg\"))|(i.endswith(\".jpg\"))|(i.endswith(\".png\")):\n",
    "        file_path=r\"\"+file_path+\"\\\\\"+i\n",
    "        text=pytesseract.image_to_string(file_path)\n",
    "        text_list.append(text)\n",
    "    print(text_list)\n",
    "    number=[]\n",
    "    for j in text_list:\n",
    "        no=re.findall(r\"\\b[A-Z]{2}\\s*[0-9]{2}\\s*[A-Z]{1,2}\\s*[0-9]{4}\\b\",j)\n",
    "        number.append(no)\n",
    "    state=[]\n",
    "    for k in number:\n",
    "        if len(k)!=0:\n",
    "            #print(i)\n",
    "            state.append(k[0])\n",
    "    for m in state:\n",
    "        state_code=re.search(\"[A-Z]{1,2}\",m)\n",
    "        print(\"state of Wheels is \",state_code.group())\n",
    "        regestration_code=re.search(\"[0-9]{2}\",m)\n",
    "        print(\"regestration place code \",regestration_code.group())\n",
    "        unique_alphanumeric_combination=re.search(\"[A-Z]{1,2}\\s*[0-9]{4}\",m)\n",
    "        print(\"unique alphanumeric combination \",unique_alphanumeric_combination.group())"
   ]
  },
  {
   "cell_type": "code",
   "execution_count": null,
   "id": "921e938f",
   "metadata": {},
   "outputs": [],
   "source": [
    "path=input(\"enter path:- \")\n",
    "get_Number_pate_details(path)"
   ]
  }
 ],
 "metadata": {
  "kernelspec": {
   "display_name": "Python 3 (ipykernel)",
   "language": "python",
   "name": "python3"
  },
  "language_info": {
   "codemirror_mode": {
    "name": "ipython",
    "version": 3
   },
   "file_extension": ".py",
   "mimetype": "text/x-python",
   "name": "python",
   "nbconvert_exporter": "python",
   "pygments_lexer": "ipython3",
   "version": "3.9.7"
  }
 },
 "nbformat": 4,
 "nbformat_minor": 5
}
